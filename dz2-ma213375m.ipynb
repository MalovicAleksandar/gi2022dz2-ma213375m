{
 "cells": [
  {
   "cell_type": "markdown",
   "id": "a7d8a01e",
   "metadata": {},
   "source": [
    "# Domaci Zadatak 2 - Aleksandar Malovic 2021/3375"
   ]
  },
  {
   "cell_type": "markdown",
   "id": "dddbd97b",
   "metadata": {},
   "source": [
    "## Kreiranje AlignmentFile-a (index file se nalazi u istom folderu sa bam fajlom)"
   ]
  },
  {
   "cell_type": "code",
   "execution_count": 1,
   "id": "b03163cc",
   "metadata": {
    "scrolled": true
   },
   "outputs": [],
   "source": [
    "import pysam\n",
    "alignmentFile = pysam.AlignmentFile(\"/home/aleksandar/Desktop/ETF/exercise2/merged-tumor.bam\", \"rb\")"
   ]
  },
  {
   "cell_type": "markdown",
   "id": "8c8ec93e",
   "metadata": {},
   "source": [
    "## Prvi AlignmentSegment i Proracuni"
   ]
  },
  {
   "cell_type": "code",
   "execution_count": 2,
   "id": "19fd20e6",
   "metadata": {},
   "outputs": [
    {
     "name": "stdout",
     "output_type": "stream",
     "text": [
      "Total reads: 2921629\n",
      "Unmapped reads: 17765\n",
      "Reads with mapping quality 0: 126628\n",
      "Average mapping quality for all reads: 55.91379158681681\n",
      "Average mapping quality for reads with non-zero quality: 58.446975510921106\n"
     ]
    }
   ],
   "source": [
    "alignmentSegment = None\n",
    "unmappedCount = 0\n",
    "totalCount = 0\n",
    "qualityTotal = 0\n",
    "zeroQualityCount = 0\n",
    "\n",
    "for read in alignmentFile:\n",
    "    if (totalCount == 0):\n",
    "        alignmentSegment = read\n",
    "    totalCount += 1\n",
    "    qualityTotal += read.mapping_quality\n",
    "    if read.mapping_quality == 0:\n",
    "        zeroQualityCount += 1\n",
    "    if read.is_unmapped:\n",
    "        unmappedCount += 1\n",
    "\n",
    "avgQuality = qualityTotal / totalCount\n",
    "avgNonZeroQuality = qualityTotal / (totalCount - zeroQualityCount)\n",
    "\n",
    "print(\"Total reads: \" + str(totalCount))\n",
    "print(\"Unmapped reads: \" + str(unmappedCount))\n",
    "print(\"Reads with mapping quality 0: \" + str(zeroQualityCount))\n",
    "print(\"Average mapping quality for all reads: \" + str(avgQuality))\n",
    "print(\"Average mapping quality for reads with non-zero quality: \" + str(avgNonZeroQuality))"
   ]
  },
  {
   "cell_type": "markdown",
   "id": "9b8a599b",
   "metadata": {},
   "source": [
    "## Prvi AlignmentSegment"
   ]
  },
  {
   "cell_type": "code",
   "execution_count": 3,
   "id": "864ac559",
   "metadata": {},
   "outputs": [
    {
     "name": "stdout",
     "output_type": "stream",
     "text": [
      "C0HVYACXX120402:7:1207:5722:57044\t1187\t#20\t9483249\t27\t76M\t#20\t9483382\t209\tTTTTCAAACAGTATCTATGCCTGCCAAATGTGAACATATAAAAAAAAACCAGAATGTGCCATTCTGATTTAAACTG\tarray('B', [28, 28, 27, 29, 31, 30, 31, 31, 29, 31, 35, 30, 29, 31, 34, 30, 29, 23, 41, 32, 20, 30, 29, 34, 34, 29, 30, 31, 30, 30, 30, 33, 33, 26, 39, 12, 25, 19, 32, 30, 35, 28, 35, 33, 23, 33, 35, 36, 30, 38, 33, 41, 34, 35, 31, 33, 23, 30, 30, 36, 27, 32, 29, 34, 35, 41, 33, 31, 33, 29, 32, 32, 31, 31, 31, 34])\t[('XA', 'GL000217.1,-110754,76M,1;'), ('BD', 'NNNNNNNNNNNNNNNNNNNNNNNNNNNNNNNNNNNNNNNNNNNNNNNNNNNNNNNNNNNNNNNNNNNNNNNNNNNN'), ('MD', '76'), ('RG', '1'), ('BI', 'NNNNNNNNNNNNNNNNNNNNNNNNNNNNNNNNNNNNNNNNNNNNNNNNNNNNNNNNNNNNNNNNNNNNNNNNNNNN'), ('NM', 0), ('MQ', 27), ('AS', 76), ('XS', 71)]\n"
     ]
    }
   ],
   "source": [
    "print(alignmentSegment)"
   ]
  },
  {
   "cell_type": "markdown",
   "id": "097cb726",
   "metadata": {},
   "source": [
    "## Flag iz AlignmentSegment-a"
   ]
  },
  {
   "cell_type": "code",
   "execution_count": 4,
   "id": "697f4676",
   "metadata": {},
   "outputs": [
    {
     "name": "stdout",
     "output_type": "stream",
     "text": [
      "1187\n"
     ]
    }
   ],
   "source": [
    "print(alignmentSegment.flag)"
   ]
  },
  {
   "cell_type": "markdown",
   "id": "01e621f3",
   "metadata": {},
   "source": [
    "## Dekodovan flag na osnovu https://broadinstitute.github.io/picard/explain-flags.html\n",
    "\n",
    "read paired (0x1)\\\n",
    "read mapped in proper pair (0x2)\\\n",
    "mate reverse strand (0x20)\\\n",
    "second in pair (0x80)\\\n",
    "read is PCR or optical duplicate (0x400)\\"
   ]
  },
  {
   "cell_type": "markdown",
   "id": "9446ab53",
   "metadata": {},
   "source": [
    "## Zatvaranje AlignmentFile-a"
   ]
  },
  {
   "cell_type": "code",
   "execution_count": 5,
   "id": "bd2e1ec1",
   "metadata": {},
   "outputs": [],
   "source": [
    "alignmentFile.close()"
   ]
  }
 ],
 "metadata": {
  "kernelspec": {
   "display_name": "Python 3 (ipykernel)",
   "language": "python",
   "name": "python3"
  },
  "language_info": {
   "codemirror_mode": {
    "name": "ipython",
    "version": 3
   },
   "file_extension": ".py",
   "mimetype": "text/x-python",
   "name": "python",
   "nbconvert_exporter": "python",
   "pygments_lexer": "ipython3",
   "version": "3.8.10"
  }
 },
 "nbformat": 4,
 "nbformat_minor": 5
}
